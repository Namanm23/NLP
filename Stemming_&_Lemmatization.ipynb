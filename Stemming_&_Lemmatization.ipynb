{
  "nbformat": 4,
  "nbformat_minor": 0,
  "metadata": {
    "colab": {
      "provenance": [],
      "gpuType": "T4",
      "authorship_tag": "ABX9TyM4zsFXfL/OE2B9pFxxf0fp",
      "include_colab_link": true
    },
    "kernelspec": {
      "name": "python3",
      "display_name": "Python 3"
    },
    "language_info": {
      "name": "python"
    },
    "accelerator": "GPU"
  },
  "cells": [
    {
      "cell_type": "markdown",
      "metadata": {
        "id": "view-in-github",
        "colab_type": "text"
      },
      "source": [
        "<a href=\"https://colab.research.google.com/github/Namanm23/NLP/blob/main/Stemming_%26_Lemmatization.ipynb\" target=\"_parent\"><img src=\"https://colab.research.google.com/assets/colab-badge.svg\" alt=\"Open In Colab\"/></a>"
      ]
    },
    {
      "cell_type": "code",
      "execution_count": 2,
      "metadata": {
        "colab": {
          "base_uri": "https://localhost:8080/"
        },
        "id": "Vnt4nNqrRkW6",
        "outputId": "a0be211a-27a7-414b-ad9c-2b24669b3ea5"
      },
      "outputs": [
        {
          "output_type": "stream",
          "name": "stderr",
          "text": [
            "[nltk_data] Downloading package punkt_tab to /root/nltk_data...\n",
            "[nltk_data]   Unzipping tokenizers/punkt_tab.zip.\n",
            "[nltk_data] Downloading package wordnet to /root/nltk_data...\n",
            "[nltk_data]   Package wordnet is already up-to-date!\n",
            "[nltk_data] Downloading package stopwords to /root/nltk_data...\n",
            "[nltk_data]   Package stopwords is already up-to-date!\n",
            "[nltk_data] Downloading package omw-1.4 to /root/nltk_data...\n",
            "[nltk_data]   Package omw-1.4 is already up-to-date!\n"
          ]
        },
        {
          "output_type": "stream",
          "name": "stdout",
          "text": [
            "Porter Stemmer: ['the', 'quick', 'brown', 'fox', 'are', 'jump', 'over', 'the', 'lazi', 'dog', '.', 'they', 'also', 'love', 'run', 'in', 'the', 'field', '.']\n",
            "Lancaster Stemmer: ['the', 'quick', 'brown', 'fox', 'ar', 'jump', 'ov', 'the', 'lazy', 'dog', '.', 'they', 'also', 'lov', 'run', 'in', 'the', 'field', '.']\n",
            "Regexp Stemmer: ['The', 'quick', 'brown', 'foxe', 'are', 'jump', 'over', 'the', 'lazy', 'dog', '.', 'They', 'also', 'love', 'runn', 'in', 'the', 'field', '.']\n",
            "Snowball Stemmer: ['the', 'quick', 'brown', 'fox', 'are', 'jump', 'over', 'the', 'lazi', 'dog', '.', 'they', 'also', 'love', 'run', 'in', 'the', 'field', '.']\n",
            "\n",
            "Lemmatized Words: ['The', 'quick', 'brown', 'fox', 'are', 'jumping', 'over', 'the', 'lazy', 'dog', '.', 'They', 'also', 'love', 'running', 'in', 'the', 'field', '.']\n",
            "\n",
            "Porter Stemmer (Sample Words): ['run', 'cat', 'fish', 'troubl', 'connect', 'organ', 'truth', 'probabl']\n",
            "Lancaster Stemmer (Sample Words): ['run', 'cat', 'fish', 'troubl', 'connect', 'org', 'truth', 'prob']\n",
            "Regexp Stemmer (Sample Words): ['runn', 'cat', 'fish', 'trouble', 'connection', 'organization', 'truthful', 'probabilitie']\n",
            "Snowball Stemmer (Sample Words): ['run', 'cat', 'fish', 'troubl', 'connect', 'organ', 'truth', 'probabl']\n"
          ]
        }
      ],
      "source": [
        "import nltk\n",
        "from nltk.stem import PorterStemmer, WordNetLemmatizer, LancasterStemmer, RegexpStemmer, SnowballStemmer\n",
        "from nltk.tokenize import word_tokenize\n",
        "from nltk.corpus import stopwords\n",
        "\n",
        "# Download necessary NLTK resources\n",
        "nltk.download('punkt_tab')\n",
        "nltk.download('wordnet')\n",
        "nltk.download('stopwords')\n",
        "nltk.download('omw-1.4')\n",
        "\n",
        "# Input text\n",
        "text = \"The quick brown foxes are jumping over the lazy dogs. They also love running in the fields.\"\n",
        "\n",
        "# Tokenize text\n",
        "tokens = word_tokenize(text)\n",
        "\n",
        "# --- Stemming ---\n",
        "# Initialize stemmers\n",
        "porter = PorterStemmer()\n",
        "lancaster = LancasterStemmer()\n",
        "regexp = RegexpStemmer('ing$|s$|ed$', min=4)  # Rule-based stemmer\n",
        "snowball = SnowballStemmer('english')\n",
        "\n",
        "# Apply stemmers\n",
        "porter_stemmed = [porter.stem(word) for word in tokens]\n",
        "lancaster_stemmed = [lancaster.stem(word) for word in tokens]\n",
        "regexp_stemmed = [regexp.stem(word) for word in tokens]\n",
        "snowball_stemmed = [snowball.stem(word) for word in tokens]\n",
        "\n",
        "# Print results of stemming\n",
        "print(\"Porter Stemmer:\", porter_stemmed)\n",
        "print(\"Lancaster Stemmer:\", lancaster_stemmed)\n",
        "print(\"Regexp Stemmer:\", regexp_stemmed)\n",
        "print(\"Snowball Stemmer:\", snowball_stemmed)\n",
        "\n",
        "# --- Lemmatization ---\n",
        "# Initialize lemmatizer\n",
        "lemmatizer = WordNetLemmatizer()\n",
        "\n",
        "# Apply lemmatization\n",
        "lemmatized_words = [lemmatizer.lemmatize(word) for word in tokens]\n",
        "\n",
        "# Print results of lemmatization\n",
        "print(\"\\nLemmatized Words:\", lemmatized_words)\n",
        "\n",
        "# --- Optional: Sample words for further stemming comparison ---\n",
        "words = ['running', 'cats', 'fishing', 'trouble', 'connection', 'organization', 'truthful', 'probabilities']\n",
        "\n",
        "# Apply stemmers to sample words\n",
        "porter_stemmed_words = [porter.stem(word) for word in words]\n",
        "lancaster_stemmed_words = [lancaster.stem(word) for word in words]\n",
        "regexp_stemmed_words = [regexp.stem(word) for word in words]\n",
        "snowball_stemmed_words = [snowball.stem(word) for word in words]\n",
        "\n",
        "# Print stemmed results for sample words\n",
        "print(\"\\nPorter Stemmer (Sample Words):\", porter_stemmed_words)\n",
        "print(\"Lancaster Stemmer (Sample Words):\", lancaster_stemmed_words)\n",
        "print(\"Regexp Stemmer (Sample Words):\", regexp_stemmed_words)\n",
        "print(\"Snowball Stemmer (Sample Words):\", snowball_stemmed_words)\n"
      ]
    },
    {
      "cell_type": "code",
      "source": [],
      "metadata": {
        "id": "sS-r7GTTW8Ai"
      },
      "execution_count": null,
      "outputs": []
    }
  ]
}